{
  "nbformat": 4,
  "nbformat_minor": 0,
  "metadata": {
    "colab": {
      "provenance": [],
      "authorship_tag": "ABX9TyNr+QkBA5EkWcRypqeYd+i8",
      "include_colab_link": true
    },
    "kernelspec": {
      "name": "python3",
      "display_name": "Python 3"
    },
    "language_info": {
      "name": "python"
    }
  },
  "cells": [
    {
      "cell_type": "markdown",
      "metadata": {
        "id": "view-in-github",
        "colab_type": "text"
      },
      "source": [
        "<a href=\"https://colab.research.google.com/github/Benjamin-Baang/ColabSearchAndSort/blob/main/SortingTechniques.ipynb\" target=\"_parent\"><img src=\"https://colab.research.google.com/assets/colab-badge.svg\" alt=\"Open In Colab\"/></a>"
      ]
    },
    {
      "cell_type": "code",
      "execution_count": 58,
      "metadata": {
        "id": "RdhIL6ml7LLN"
      },
      "outputs": [],
      "source": [
        "def selection_sort(Data = []):\n",
        "  if len(Data) >= 2:\n",
        "    for scanIndex in range(0, len(Data)):\n",
        "      minIndex = scanIndex\n",
        "      for compIndex in range(scanIndex+1, len(Data)):\n",
        "        if Data[compIndex] < Data[minIndex]:\n",
        "          minIndex = compIndex\n",
        "      if minIndex != scanIndex:\n",
        "        Data[scanIndex], Data[minIndex] = \\\n",
        "          Data[minIndex], Data[scanIndex]\n",
        "  return Data\n",
        "\n",
        "\n",
        "def insertion_sort(Data = []):\n",
        "  if len(Data) >= 2:\n",
        "    for scanIndex in range(1, len(Data)):\n",
        "      temp = Data[scanIndex]\n",
        "      minIndex = scanIndex\n",
        "      while minIndex > 0 and temp < Data[minIndex - 1]:\n",
        "        Data[minIndex] = Data[minIndex - 1]\n",
        "        minIndex -= 1\n",
        "      Data[minIndex] = temp\n",
        "  return Data\n",
        "\n",
        "def mergeSort(Data = []):\n",
        "  # Determine whether the list is broken into individual pieces\n",
        "  if len(Data) < 2:\n",
        "    return Data\n",
        "  # Find the middle of the list\n",
        "  middle = len(Data)//2\n",
        "  # Break the list into two pieces\n",
        "  left = mergeSort(Data[:middle])\n",
        "  right = mergeSort(Data[middle:])\n",
        "  # Merge the two sorted pieces into a larger piece\n",
        "  merged = merge(left, right)\n",
        "  return merged\n",
        "\n",
        "def merge(left, right):\n",
        "  # When the left side or the right side is empty, it means that this is\n",
        "  # an individual item and is already sorted.\n",
        "  if not len(left):\n",
        "    return left\n",
        "  if not len(right):\n",
        "    return right\n",
        "  # Define variables used to merge the two pieces.\n",
        "  result = []\n",
        "  leftIndex = 0\n",
        "  rightIndex = 0\n",
        "  totalLen = len(left) + len(right)\n",
        "  # Keep working until all of the items are merged.\n",
        "  while (len(result) < totalLen):\n",
        "    # Perform the required comparisons and merge the pieces\n",
        "    # according to value.\n",
        "    if left[leftIndex] < right[rightIndex]:\n",
        "      result.append(left[leftIndex])\n",
        "      leftIndex += 1\n",
        "    else:\n",
        "      result.append(right[rightIndex])\n",
        "      rightIndex += 1\n",
        "    # When the left side or the right side is longer,\n",
        "    # add the remaining elements to the result.\n",
        "    if leftIndex == len(left) or rightIndex == len(right):\n",
        "      result.extend(left[leftIndex:] or right[rightIndex:])\n",
        "      break\n",
        "  return result"
      ]
    }
  ]
}