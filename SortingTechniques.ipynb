{
  "nbformat": 4,
  "nbformat_minor": 0,
  "metadata": {
    "colab": {
      "provenance": [],
      "authorship_tag": "ABX9TyOQbEf9L2bNFDYYZyVof8/E",
      "include_colab_link": true
    },
    "kernelspec": {
      "name": "python3",
      "display_name": "Python 3"
    },
    "language_info": {
      "name": "python"
    }
  },
  "cells": [
    {
      "cell_type": "markdown",
      "metadata": {
        "id": "view-in-github",
        "colab_type": "text"
      },
      "source": [
        "<a href=\"https://colab.research.google.com/github/Benjamin-Baang/ColabSearchAndSort/blob/main/SortingTechniques.ipynb\" target=\"_parent\"><img src=\"https://colab.research.google.com/assets/colab-badge.svg\" alt=\"Open In Colab\"/></a>"
      ]
    },
    {
      "cell_type": "code",
      "execution_count": 52,
      "metadata": {
        "id": "RdhIL6ml7LLN"
      },
      "outputs": [],
      "source": [
        "def selection_sort(Data = []):\n",
        "  if len(Data) >= 2:\n",
        "    for scanIndex in range(0, len(Data)):\n",
        "      minIndex = scanIndex\n",
        "      for compIndex in range(scanIndex+1, len(Data)):\n",
        "        if Data[compIndex] < Data[minIndex]:\n",
        "          minIndex = compIndex\n",
        "      if minIndex != scanIndex:\n",
        "        Data[scanIndex], Data[minIndex] = \\\n",
        "          Data[minIndex], Data[scanIndex]\n",
        "  return Data\n",
        "\n",
        "\n",
        "def insertion_sort(Data = []):\n",
        "  if len(Data) >= 2:\n",
        "    for scanIndex in range(1, len(Data)):\n",
        "      temp = Data[scanIndex]\n",
        "      minIndex = scanIndex\n",
        "      while minIndex > 0 and temp < Data[minIndex - 1]:\n",
        "        Data[minIndex] = Data[minIndex - 1]\n",
        "        minIndex -= 1\n",
        "      Data[minIndex] = temp\n",
        "  return Data"
      ]
    }
  ]
}